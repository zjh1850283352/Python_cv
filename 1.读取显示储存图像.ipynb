{
 "cells": [
  {
   "cell_type": "markdown",
   "metadata": {},
   "source": [
    "# 1.读取图像\n",
    "cv.imread()"
   ]
  },
  {
   "cell_type": "code",
   "execution_count": 1,
   "metadata": {},
   "outputs": [],
   "source": [
    "import cv2 as cv\n",
    "from matplotlib import pyplot as plt"
   ]
  },
  {
   "cell_type": "code",
   "execution_count": 2,
   "metadata": {},
   "outputs": [
    {
     "data": {
      "text/plain": [
       "'\\ncv.imread()\\n图像应该在工作目录或图像的完整路径应给出。第二个参数是一个标志，它指定了读取图像的方式。  \\ncv.IMREAD_COLOR,加载彩色图像。任何图像的透明度都会被忽视。它是默认标志。1  \\ncv.IMREAD_GRAYSCALE:以灰度模式加载图像0  \\ncv.IMREAD_UNCHANGED:加载图像,包括alpha通道-1  \\n注意:除了这三个标志,你可以分别简单地传递整数1、0或-1。\\n'"
      ]
     },
     "execution_count": 2,
     "metadata": {},
     "output_type": "execute_result"
    }
   ],
   "source": [
    "img = cv.imread('C:/Users/dell/Desktop/Python_cv/pic/01.jpg',1) #0灰度读入，1彩色读入,不写默认原色彩色读入\n",
    "'''\n",
    "cv.imread()\n",
    "图像应该在工作目录或图像的完整路径应给出。第二个参数是一个标志，它指定了读取图像的方式。  \n",
    "cv.IMREAD_COLOR,加载彩色图像。任何图像的透明度都会被忽视。它是默认标志。1  \n",
    "cv.IMREAD_GRAYSCALE:以灰度模式加载图像0  \n",
    "cv.IMREAD_UNCHANGED:加载图像,包括alpha通道-1  \n",
    "注意:除了这三个标志,你可以分别简单地传递整数1、0或-1。\n",
    "'''"
   ]
  },
  {
   "cell_type": "markdown",
   "metadata": {},
   "source": [
    "# 2.显示图像  \n",
    "cv.imshow()  \n",
    "Matplotlib"
   ]
  },
  {
   "cell_type": "markdown",
   "metadata": {},
   "source": [
    "## 2.1使用cv.imshow()显示图像"
   ]
  },
  {
   "cell_type": "code",
   "execution_count": null,
   "metadata": {},
   "outputs": [],
   "source": [
    "cv.imshow('image',img)  #窗口自动适合图像尺寸。第1个参数是窗口名称（字符串）。第2个参数是对象。\n",
    "cv.waitKey(0)   #敲击任何键输入，否则将持续等待\n",
    "cv.destroyAllWindows()"
   ]
  },
  {
   "cell_type": "markdown",
   "metadata": {},
   "source": [
    "**cv.waitKey()**:键盘绑定函数。参数是以毫秒为单位。该函数等待任何键盘事件指定的毫秒。如果在这段时间内按下任何键，程序将继续运行。如果0被传递，它将无限期地等待一次敲击键。也可以设置为检测特定的按键。  \n",
    "\n",
    "**cv.destroyAllWindows()**:破坏创建的所有窗口。在其中传递确切的窗口名称作为参数，销毁任何特定的窗口。  "
   ]
  },
  {
   "cell_type": "code",
   "execution_count": null,
   "metadata": {},
   "outputs": [],
   "source": [
    "\n",
    "cv.namedWindow('image',cv.WINDOW_NORMAL)    #创建一个空窗口，默认WINDOW_AUTOSIZE\n",
    "'''\n",
    "WINDOW_AUTOSIZE\t根据图像大小显示窗口，不允许用户调整大小\n",
    "WINDOW_NORMAL\t显示图像后，允许用户随意调整窗口大小\n",
    "WINDOW_FREERATIO\t窗口大小自适应比例\n",
    "WINDOW_KEEPRATIO\t保持图像的比例\n",
    "'''\n",
    "cv.imshow('image',img)\n",
    "cv.waitKey(0)\n",
    "cv.destroyAllWindows()"
   ]
  },
  {
   "cell_type": "markdown",
   "metadata": {},
   "source": [
    "## 2.2使用Matplotlib显示图像"
   ]
  },
  {
   "cell_type": "code",
   "execution_count": null,
   "metadata": {},
   "outputs": [],
   "source": [
    "#opencv和matplotlib的颜色通道不一样，需要转换。\n",
    "img = cv.cvtColor(img,cv.COLOR_BGR2RGB)\n",
    "plt.imshow(img, cmap = 'gray', interpolation = 'bicubic')\n",
    "plt.xticks([]), plt.yticks([])  # 隐藏 x 轴和 y 轴上的刻度值\n",
    "plt.show()"
   ]
  },
  {
   "cell_type": "markdown",
   "metadata": {},
   "source": [
    "# 3.储存图像  \n",
    "cv.imwrite()  \n",
    "cv.waitKey()"
   ]
  },
  {
   "cell_type": "code",
   "execution_count": 3,
   "metadata": {},
   "outputs": [
    {
     "data": {
      "text/plain": [
       "\"\\n#按s保存图像并退出,或者按ESC键直接退出而不保存。\\nk = cv.waitKey(0)\\nif k == 27:         # 等待ESC退出\\n    cv.destroyAllWindows()\\nelif k == ord('s'): # 等待关键字，保存和退出\\n    cv.imwrite('messigray.png',img)\\n    cv.destroyAllWindows()\\n\""
      ]
     },
     "execution_count": 3,
     "metadata": {},
     "output_type": "execute_result"
    }
   ],
   "source": [
    "cv.imwrite('C:/Users/dell/Desktop/Python_cv/pic/messigray.png',img)\n",
    "#第一个参数是文件名，第二个参数是要保存的图像。\n",
    "'''\n",
    "#按s保存图像并退出,或者按ESC键直接退出而不保存。\n",
    "k = cv.waitKey(0)\n",
    "if k == 27:         # 等待ESC退出\n",
    "    cv.destroyAllWindows()\n",
    "elif k == ord('s'): # 等待关键字，保存和退出\n",
    "    cv.imwrite('messigray.png',img)\n",
    "    cv.destroyAllWindows()\n",
    "'''"
   ]
  }
 ],
 "metadata": {
  "kernelspec": {
   "display_name": "Python 3.8.2 64-bit",
   "language": "python",
   "name": "python3"
  },
  "language_info": {
   "codemirror_mode": {
    "name": "ipython",
    "version": 3
   },
   "file_extension": ".py",
   "mimetype": "text/x-python",
   "name": "python",
   "nbconvert_exporter": "python",
   "pygments_lexer": "ipython3",
   "version": "3.8.2"
  },
  "orig_nbformat": 4,
  "vscode": {
   "interpreter": {
    "hash": "2469a70536e4d2335a2ea8907942d0699c37342a371ac185bdb5b0aa6f073890"
   }
  }
 },
 "nbformat": 4,
 "nbformat_minor": 2
}
