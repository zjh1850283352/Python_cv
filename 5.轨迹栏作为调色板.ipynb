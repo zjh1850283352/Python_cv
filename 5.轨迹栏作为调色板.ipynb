{
 "cells": [
  {
   "cell_type": "markdown",
   "metadata": {},
   "source": [
    "### 目标\n",
    "了解将轨迹栏固定到OpenCV窗口  \n",
    "您将学习以下功能：cv.getTrackbarPos，cv.createTrackbar等。  \n",
    "### 代码演示  \n",
    "在这里，我们将创建一个简单的应用程序，以显示您指定的颜色。您有一个显示颜色的窗口，以及三个用于指定B、G、R颜色的跟踪栏。滑动轨迹栏，并相应地更改窗口颜色。默认情况下，初始颜色将设置为黑色。  \n",
    "对于cv.getTrackbarPos()函数，第一个参数是轨迹栏名称，第二个参数是它附加到的窗口名称，第三个参数是默认值，第四个参数是最大值，第五个是执行的回调函数每次跟踪栏值更改。回调函数始终具有默认参数，即轨迹栏位置。在我们的例子中，函数什么都不做，所以我们简单地通过。  \n",
    "轨迹栏的另一个重要应用是将其用作按钮或开关。默认情况下，OpenCV不具有按钮功能。因此，您可以使用轨迹栏获得此类功能。在我们的应用程序中，我们创建了一个开关，只有在该开关为ON的情况下，该应用程序才能在其中运行，否则屏幕始终为黑色。  "
   ]
  },
  {
   "cell_type": "code",
   "execution_count": 2,
   "metadata": {},
   "outputs": [
    {
     "ename": "error",
     "evalue": "OpenCV(4.6.0) D:\\a\\opencv-python\\opencv-python\\opencv\\modules\\highgui\\src\\window_w32.cpp:2581: error: (-27:Null pointer) NULL window: 'image' in function 'cvGetTrackbarPos'\n",
     "output_type": "error",
     "traceback": [
      "\u001b[1;31m---------------------------------------------------------------------------\u001b[0m",
      "\u001b[1;31merror\u001b[0m                                     Traceback (most recent call last)",
      "\u001b[1;32md:\\CodeField\\github\\Python_cv\\5.轨迹栏作为调色板.ipynb Cell 2\u001b[0m in \u001b[0;36m<cell line: 15>\u001b[1;34m()\u001b[0m\n\u001b[0;32m     <a href='vscode-notebook-cell:/d%3A/CodeField/github/Python_cv/5.%E8%BD%A8%E8%BF%B9%E6%A0%8F%E4%BD%9C%E4%B8%BA%E8%B0%83%E8%89%B2%E6%9D%BF.ipynb#ch0000001?line=18'>19</a>\u001b[0m     \u001b[39mbreak\u001b[39;00m\n\u001b[0;32m     <a href='vscode-notebook-cell:/d%3A/CodeField/github/Python_cv/5.%E8%BD%A8%E8%BF%B9%E6%A0%8F%E4%BD%9C%E4%B8%BA%E8%B0%83%E8%89%B2%E6%9D%BF.ipynb#ch0000001?line=19'>20</a>\u001b[0m \u001b[39m# 得到四条轨迹的当前位置\u001b[39;00m\n\u001b[1;32m---> <a href='vscode-notebook-cell:/d%3A/CodeField/github/Python_cv/5.%E8%BD%A8%E8%BF%B9%E6%A0%8F%E4%BD%9C%E4%B8%BA%E8%B0%83%E8%89%B2%E6%9D%BF.ipynb#ch0000001?line=20'>21</a>\u001b[0m r \u001b[39m=\u001b[39m cv\u001b[39m.\u001b[39;49mgetTrackbarPos(\u001b[39m'\u001b[39;49m\u001b[39mR\u001b[39;49m\u001b[39m'\u001b[39;49m,\u001b[39m'\u001b[39;49m\u001b[39mimage\u001b[39;49m\u001b[39m'\u001b[39;49m)\n\u001b[0;32m     <a href='vscode-notebook-cell:/d%3A/CodeField/github/Python_cv/5.%E8%BD%A8%E8%BF%B9%E6%A0%8F%E4%BD%9C%E4%B8%BA%E8%B0%83%E8%89%B2%E6%9D%BF.ipynb#ch0000001?line=21'>22</a>\u001b[0m g \u001b[39m=\u001b[39m cv\u001b[39m.\u001b[39mgetTrackbarPos(\u001b[39m'\u001b[39m\u001b[39mG\u001b[39m\u001b[39m'\u001b[39m,\u001b[39m'\u001b[39m\u001b[39mimage\u001b[39m\u001b[39m'\u001b[39m)\n\u001b[0;32m     <a href='vscode-notebook-cell:/d%3A/CodeField/github/Python_cv/5.%E8%BD%A8%E8%BF%B9%E6%A0%8F%E4%BD%9C%E4%B8%BA%E8%B0%83%E8%89%B2%E6%9D%BF.ipynb#ch0000001?line=22'>23</a>\u001b[0m b \u001b[39m=\u001b[39m cv\u001b[39m.\u001b[39mgetTrackbarPos(\u001b[39m'\u001b[39m\u001b[39mB\u001b[39m\u001b[39m'\u001b[39m,\u001b[39m'\u001b[39m\u001b[39mimage\u001b[39m\u001b[39m'\u001b[39m)\n",
      "\u001b[1;31merror\u001b[0m: OpenCV(4.6.0) D:\\a\\opencv-python\\opencv-python\\opencv\\modules\\highgui\\src\\window_w32.cpp:2581: error: (-27:Null pointer) NULL window: 'image' in function 'cvGetTrackbarPos'\n"
     ]
    }
   ],
   "source": [
    "import numpy as np\n",
    "import cv2 as cv\n",
    "def nothing(x):\n",
    "    pass\n",
    "# 创建一个黑色的图像，一个窗口\n",
    "img = np.zeros((300,512,3), np.uint8)\n",
    "cv.namedWindow('image')\n",
    "# 创建颜色变化的轨迹栏\n",
    "cv.createTrackbar('R','image',0,255,nothing)\n",
    "cv.createTrackbar('G','image',0,255,nothing)\n",
    "cv.createTrackbar('B','image',0,255,nothing)\n",
    "# 为 ON/OFF 功能创建开关\n",
    "switch = '0 : OFF \\n1 : ON'\n",
    "cv.createTrackbar(switch, 'image',0,1,nothing)\n",
    "while(1):\n",
    "    cv.imshow('image',img)\n",
    "    k = cv.waitKey(1) & 0xFF\n",
    "    if k == 27:\n",
    "        break\n",
    "    # 得到四条轨迹的当前位置\n",
    "    r = cv.getTrackbarPos('R','image')\n",
    "    g = cv.getTrackbarPos('G','image')\n",
    "    b = cv.getTrackbarPos('B','image')\n",
    "    s = cv.getTrackbarPos(switch,'image')\n",
    "    if s == 0:\n",
    "        img[:] = 0\n",
    "    else:\n",
    "        img[:] = [b,g,r]\n",
    "cv.destroyAllWindows()"
   ]
  }
 ],
 "metadata": {
  "kernelspec": {
   "display_name": "Python 3.10.5 64-bit (system)",
   "language": "python",
   "name": "python3"
  },
  "language_info": {
   "codemirror_mode": {
    "name": "ipython",
    "version": 3
   },
   "file_extension": ".py",
   "mimetype": "text/x-python",
   "name": "python",
   "nbconvert_exporter": "python",
   "pygments_lexer": "ipython3",
   "version": "3.10.5"
  },
  "orig_nbformat": 4,
  "vscode": {
   "interpreter": {
    "hash": "0de1e4498501041d6ba30fdeca044e030e21c510e5f049e40681d136afed3975"
   }
  }
 },
 "nbformat": 4,
 "nbformat_minor": 2
}
