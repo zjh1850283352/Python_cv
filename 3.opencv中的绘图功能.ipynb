{
 "cells": [
  {
   "cell_type": "markdown",
   "metadata": {},
   "source": [
    "https://mp.weixin.qq.com/s/dP7Wln_gbk9VA9oIHyk6RA  \n",
    "### 目标  \n",
    "学习使用OpenCV绘制不同的几何形状  \n",
    "您将学习以下功能：cv.line()，cv.circle()，cv.rectangle()，cv.ellipse()，cv.putText()等。\n",
    "### 代码  \n",
    "在上述所有功能中，您将看到一些常见的参数，如下所示：  \n",
    "img：您要绘制形状的图像  \n",
    "color：形状的颜色。对于BGR，将其作为元组传递，例如：(255,0,0)对于蓝色。对于灰度，只需传递标量值即可。  \n",
    "厚度：线或圆等的粗细。如果对闭合图形（如圆）传递-1 ，它将填充形状。默认厚度= 1  \n",
    "lineType：线的类型，是否为8连接线，抗锯齿线等。默认情况下，为8连接线。cv.LINE_AA给出了抗锯齿的线条，看起来非常适合曲线。  "
   ]
  },
  {
   "cell_type": "markdown",
   "metadata": {},
   "source": [
    "### 画线\n",
    "要绘制一条线，您需要传递线的开始和结束坐标。我们将创建一个黑色图像，并从左上角到右下角在其上绘制一条蓝线。"
   ]
  },
  {
   "cell_type": "code",
   "execution_count": 7,
   "metadata": {},
   "outputs": [],
   "source": [
    "import numpy as np\n",
    "import cv2 as cv\n",
    "from matplotlib import pyplot as plt"
   ]
  },
  {
   "cell_type": "code",
   "execution_count": null,
   "metadata": {},
   "outputs": [],
   "source": [
    "# 创建黑色的图像\n",
    "img = np.zeros((512,512,3), np.uint8)\n",
    "# 绘制一条厚度为5的蓝色对角线\n",
    "cv.line(img,(0,0),(511,511),(255,0,0),5)"
   ]
  },
  {
   "cell_type": "markdown",
   "metadata": {},
   "source": [
    "### 画矩形\n",
    "要绘制矩形，您需要矩形的左上角和右下角。这次，我们将在图像的右上角绘制一个绿色矩形。  \n",
    "cv.rectangle(img,(384,0),(510,128),(0,255,0),3)\n",
    "### 画圆圈\n",
    "要绘制一个圆，需要其中心坐标和半径。我们将在上面绘制的矩形内绘制一个圆。  \n",
    "cv.circle(img,(447,63), 63, (0,0,255), -1)  \n",
    "### 画椭圆\n",
    "要绘制椭圆，我们需要传递几个参数。一个参数是中心位置（x，y）。下一个参数是轴长度（长轴长度，短轴长度）。angle是椭圆沿逆时针方向旋转的角度。startAngle和endAngle表示从主轴沿顺时针方向测量的椭圆弧的开始和结束。即给出0和360给出完整的椭圆。有关更多详细信息，请参阅cv.ellipse的文档。下面的示例在图像的中心绘制一个椭圆形。  \n",
    "cv.ellipse(img,(256,256),(100,50),0,0,180,255,-1)\n",
    "### 画多边形\n",
    "要绘制多边形，首先需要顶点的坐标。将这些点组成形状为ROWSx1x2的数组，其中ROWS是顶点数，并且其类型应为int32。在这里，我们绘制了一个带有四个顶点的黄色小多边形。"
   ]
  },
  {
   "cell_type": "code",
   "execution_count": null,
   "metadata": {},
   "outputs": [],
   "source": [
    "pts = np.array([[10,5],[20,30],[70,20],[50,10]], np.int32)\n",
    "pts = pts.reshape((-1,1,2))\n",
    "cv.polylines(img,[pts],True,(0,255,255))"
   ]
  },
  {
   "cell_type": "markdown",
   "metadata": {},
   "source": [
    "注意:如果第三个参数为False，您将获得一条连接所有点的折线，而不是闭合形状。  \n",
    "cv.polylines()可用于绘制多条线。只需创建要绘制的所有线条的列表，然后将其传递给函数即可。所有线条将单独绘制。与为每条线调用cv.line相比，绘制一组线是一种更好，更快的方法。"
   ]
  },
  {
   "cell_type": "markdown",
   "metadata": {},
   "source": [
    "### 向图像添加文本：\n",
    "要将文本放入图像中，需要指定以下内容。  \n",
    "您要写入的文字数据  \n",
    "您要放置它的位置坐标（即数据开始的左下角）。  \n",
    "字体类型（检查cv.putText文档以获取受支持的字体）  \n",
    "字体比例（指定字体大小）  \n",
    "常规的内容，例如颜色，厚度，线条类型等。为了获得更好的外观，建议使用lineType = cv.LINE_AA。  \n",
    "我们将在白色图像上写入OpenCV。"
   ]
  },
  {
   "cell_type": "code",
   "execution_count": 10,
   "metadata": {},
   "outputs": [
    {
     "data": {
      "image/png": "[encoded data removed]",
      "text/plain": [
       "<Figure size 432x288 with 1 Axes>"
      ]
     },
     "metadata": {},
     "output_type": "display_data"
    }
   ],
   "source": [
    "font = cv.FONT_HERSHEY_SIMPLEX\n",
    "cv.putText(img,'OpenCV',(10,500), font, 4,(255,255,255),2,cv.LINE_AA)\n",
    "#画图显示\n",
    "plt.imshow(img, cmap = 'gray', interpolation = 'bicubic')\n",
    "plt.xticks([]), plt.yticks([])  # 隐藏 x 轴和 y 轴上的刻度值\n",
    "plt.show()\n"
   ]
  },
  {
   "cell_type": "markdown",
   "metadata": {},
   "source": [
    "其他资源  \n",
    "1.椭圆函数中使用的角度不是我们的圆角。有关更多详细信息，请访问此讨论：http://answers.opencv.org/question/14541/angles-in-ellipse-function/。"
   ]
  }
 ],
 "metadata": {
  "kernelspec": {
   "display_name": "Python 3.10.5 64-bit (system)",
   "language": "python",
   "name": "python3"
  },
  "language_info": {
   "codemirror_mode": {
    "name": "ipython",
    "version": 3
   },
   "file_extension": ".py",
   "mimetype": "text/x-python",
   "name": "python",
   "nbconvert_exporter": "python",
   "pygments_lexer": "ipython3",
   "version": "3.10.5"
  },
  "orig_nbformat": 4,
  "vscode": {
   "interpreter": {
    "hash": "0de1e4498501041d6ba30fdeca044e030e21c510e5f049e40681d136afed3975"
   }
  }
 },
 "nbformat": 4,
 "nbformat_minor": 2
}
