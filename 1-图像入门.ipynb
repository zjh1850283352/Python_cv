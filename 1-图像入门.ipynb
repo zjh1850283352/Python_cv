{
 "cells": [
  {
   "cell_type": "markdown",
   "metadata": {},
   "source": [
    "https://mp.weixin.qq.com/s/Xe-AZEyvVX2fYrzgbIP9PQ\n",
    "### 读取图像  "
   ]
  },
  {
   "cell_type": "code",
   "execution_count": null,
   "metadata": {},
   "outputs": [],
   "source": [
    "import numpy as np\n",
    "import cv2 as cv\n",
    "from matplotlib import pyplot as plt"
   ]
  },
  {
   "cell_type": "code",
   "execution_count": null,
   "metadata": {},
   "outputs": [],
   "source": [
    "#加载彩色灰度图像\n",
    "#0灰度读入，1彩色读入,不写默认原色彩色读入\n",
    "img = cv.imread('01.jpg',0)\n",
    "'''\n",
    "使用cv.imread()函数读取图像。图像应该在工作目录或图像的完整路径应给出。  \n",
    "第二个参数是一个标志，它指定了读取图像的方式。  \n",
    "cv.IMREAD_COLOR,加载彩色图像。任何图像的透明度都会被忽视。它是默认标志。1  \n",
    "cv.IMREAD_GRAYSCALE:以灰度模式加载图像0  \n",
    "cv.IMREAD_UNCHANGED:加载图像,包括alpha通道-1  \n",
    "注意:除了这三个标志,你可以分别简单地传递整数1、0或-1。\n",
    "'''"
   ]
  },
  {
   "cell_type": "markdown",
   "metadata": {},
   "source": [
    "警告:即使图像路径错误，它也不会引发任何错误，但是print img会给出None"
   ]
  },
  {
   "cell_type": "markdown",
   "metadata": {},
   "source": [
    "### 显示图像  "
   ]
  },
  {
   "cell_type": "code",
   "execution_count": null,
   "metadata": {},
   "outputs": [],
   "source": [
    "cv.imshow('image',img)\n",
    "'''\n",
    "使用函数cv.imshow()在窗口中显示图像。窗口自动适合图像尺寸。  \n",
    "第一个参数是窗口名称，它是一个字符串。第二个参数是我们的对象。你可以根据需要创建任意多个窗口，但可以使用不同的窗口名称。\n",
    "'''\n",
    "cv.waitKey(0)   #敲击任何键输入，否则将持续等待\n",
    "cv.destroyAllWindows()"
   ]
  },
  {
   "cell_type": "markdown",
   "metadata": {},
   "source": [
    "1-*cv.waitKey()*:键盘绑定函数。其参数是以毫秒为单位。该函数等待任何键盘事件指定的毫秒。如果您在这段时间内按下任何键，程序将继续运行。如果0被传递，它将无限期地等待一次敲击键。它也可以设置为检测特定的按键，例如，如果按下键 a 等，我们将在下面讨论。  \n",
    "注意:除了键盘绑定事件外，此功能还处理许多其他GUI事件，因此你必须使用它来实际显示图像。  \n",
    "2-*cv.destroyAllWindows()*:破坏创建的所有窗口。如果要销毁任何特定的窗口，使用函数*cv.destroyWindow()*在其中传递确切的窗口名称作为参数。  \n",
    "***\n",
    "注意:在特殊情况下，可以创建一个空窗口，然后再将图像加载到该窗口。在这种情况下，你可以指定窗口是否可调整大小。通过功能*cv.namedWindow()*完成的，默认情况下，该标志为cv.WINDOW_AUTOSIZE。但是，如果将标志指定为cv.WINDOW_NORMAL，则可以调整窗口大小。当图像尺寸过大以及向窗口添加跟踪栏时，这将很有帮助。"
   ]
  },
  {
   "cell_type": "code",
   "execution_count": null,
   "metadata": {},
   "outputs": [],
   "source": [
    "cv.namedWindow('image',cv.WINDOW_NORMAL)\n",
    "'''\n",
    "WINDOW_NORMAL\t显示图像后，允许用户随意调整窗口大小\n",
    "WINDOW_AUTOSIZE\t根据图像大小显示窗口，不允许用户调整大小\n",
    "WINDOW_FREERATIO\t窗口大小自适应比例\n",
    "WINDOW_KEEPRATIO\t保持图像的比例\n",
    "'''\n",
    "cv.imshow('image',img)\n",
    "cv.waitKey(0)\n",
    "cv.destroyAllWindows()"
   ]
  },
  {
   "cell_type": "markdown",
   "metadata": {},
   "source": [
    "### 储存图像  \n",
    "*cv.imwrite()*保存图像。第一个参数是文件名，第二个参数是要保存的图像。"
   ]
  },
  {
   "cell_type": "code",
   "execution_count": null,
   "metadata": {},
   "outputs": [],
   "source": [
    "#在下面的程序中，以灰度加载图像，显示图像，按s保存图像并退出，或者按ESC键直接退出而不保存。\n",
    "img = cv.imread('01.jpg',0)\n",
    "cv.imshow('image',img)\n",
    "k = cv.waitKey(0)\n",
    "if k == 27:         # 等待ESC退出\n",
    "    cv.destroyAllWindows()\n",
    "elif k == ord('s'): # 等待关键字，保存和退出\n",
    "    cv.imwrite('messigray.png',img)\n",
    "    cv.destroyAllWindows()"
   ]
  },
  {
   "cell_type": "markdown",
   "metadata": {},
   "source": [
    "### 使用Matplotlib  "
   ]
  },
  {
   "cell_type": "code",
   "execution_count": null,
   "metadata": {},
   "outputs": [],
   "source": [
    "img = cv.imread('01.jpg')\n",
    "#直接显示图像，由于opencv和matplotlib的颜色通道不一样，需要转换一下。\n",
    "img = cv.cvtColor(img,cv.COLOR_BGR2RGB)\n",
    "plt.imshow(img, cmap = 'gray', interpolation = 'bicubic')\n",
    "plt.xticks([]), plt.yticks([])  # 隐藏 x 轴和 y 轴上的刻度值\n",
    "plt.show()"
   ]
  },
  {
   "cell_type": "markdown",
   "metadata": {},
   "source": [
    "其他资源\n",
    "1.Matplotlib绘图样式和功能：http://matplotlib.org/api/pyplot_api.html"
   ]
  }
 ],
 "metadata": {
  "kernelspec": {
   "display_name": "Python 3.8.2 64-bit",
   "language": "python",
   "name": "python3"
  },
  "language_info": {
   "codemirror_mode": {
    "name": "ipython",
    "version": 3
   },
   "file_extension": ".py",
   "mimetype": "text/x-python",
   "name": "python",
   "nbconvert_exporter": "python",
   "pygments_lexer": "ipython3",
   "version": "3.8.2"
  },
  "orig_nbformat": 4,
  "vscode": {
   "interpreter": {
    "hash": "2469a70536e4d2335a2ea8907942d0699c37342a371ac185bdb5b0aa6f073890"
   }
  }
 },
 "nbformat": 4,
 "nbformat_minor": 2
}
